{
  "nbformat": 4,
  "nbformat_minor": 0,
  "metadata": {
    "colab": {
      "name": "170204016 Project.ipynb",
      "provenance": []
    },
    "kernelspec": {
      "name": "python3",
      "display_name": "Python 3"
    },
    "language_info": {
      "name": "python"
    }
  },
  "cells": [
    {
      "cell_type": "markdown",
      "metadata": {
        "id": "HsB7puwO35il"
      },
      "source": [
        "# Import Libraries"
      ]
    },
    {
      "cell_type": "code",
      "metadata": {
        "id": "Z46AC_ffch3E"
      },
      "source": [
        "import numpy\n",
        "import matplotlib.pyplot as plot\n",
        "import pandas\n",
        "from sklearn import metrics\n",
        "from sklearn.model_selection import train_test_split\n",
        "from sklearn.linear_model import LinearRegression\n",
        "from sklearn.tree import DecisionTreeRegressor\n",
        "from sklearn.neighbors import KNeighborsRegressor\n",
        "from sklearn.svm import SVR\n",
        "from sklearn.ensemble import RandomForestRegressor\n",
        "from sklearn.linear_model import Ridge\n",
        "%matplotlib inline\n",
        "import warnings\n",
        "warnings.simplefilter(\"ignore\")"
      ],
      "execution_count": null,
      "outputs": []
    },
    {
      "cell_type": "markdown",
      "metadata": {
        "id": "YdDlXyTX4Lx4"
      },
      "source": [
        "# Import Dataset"
      ]
    },
    {
      "cell_type": "code",
      "metadata": {
        "id": "_E06I4f1cmBA"
      },
      "source": [
        "path = \"https://github.com/Samiul-Islam-Niloy/Artificial-Intelligence-Codes/raw/main/Project/US%20Graduate%20Schools%20Admission%20Parameters%20Dataset.csv\"\n",
        "dataset=pandas.read_csv(path)"
      ],
      "execution_count": null,
      "outputs": []
    },
    {
      "cell_type": "markdown",
      "metadata": {
        "id": "x2ksCeGd4TEB"
      },
      "source": [
        "# Print Dataset"
      ]
    },
    {
      "cell_type": "code",
      "metadata": {
        "colab": {
          "base_uri": "https://localhost:8080/"
        },
        "id": "mPe5wmEYc2Vx",
        "outputId": "5d1a7534-8cac-4a14-ce68-ec0ed6af102e"
      },
      "source": [
        "print(dataset.shape)\n",
        "print(dataset.head(5))"
      ],
      "execution_count": null,
      "outputs": [
        {
          "output_type": "stream",
          "name": "stdout",
          "text": [
            "(500, 9)\n",
            "   Serial No.  GRE Score  ...  Research Experience  Chance of Admit\n",
            "0           1        337  ...                    1             0.92\n",
            "1           2        324  ...                    1             0.76\n",
            "2           3        316  ...                    1             0.72\n",
            "3           4        322  ...                    1             0.80\n",
            "4           5        314  ...                    0             0.65\n",
            "\n",
            "[5 rows x 9 columns]\n"
          ]
        }
      ]
    },
    {
      "cell_type": "markdown",
      "metadata": {
        "id": "xC5dGUxeEfqy"
      },
      "source": [
        "# Dropping NULL Values"
      ]
    },
    {
      "cell_type": "code",
      "metadata": {
        "id": "C81LwabcEeTC"
      },
      "source": [
        "# Finding all the columns with NULL values\n",
        "dataset.isna().sum()\n",
        "# Drop the rows with missing values\n",
        "dataset = dataset.dropna()"
      ],
      "execution_count": null,
      "outputs": []
    },
    {
      "cell_type": "markdown",
      "metadata": {
        "id": "9zJS2Soc4ZQu"
      },
      "source": [
        "# Assigning Feature Values and Target Values"
      ]
    },
    {
      "cell_type": "code",
      "metadata": {
        "id": "hBp4cTCvc7rP"
      },
      "source": [
        "#x=dataset[['GRE_Score', 'TOEFL_Score', 'University_Rating', 'SOP', 'LOR', 'CGPA', 'Research']].values\n",
        "#y=dataset['Chance_of_Admit'].values\n",
        "x = dataset.iloc[:, 1:-1].values\n",
        "y = dataset.iloc[:, 8].values"
      ],
      "execution_count": null,
      "outputs": []
    },
    {
      "cell_type": "markdown",
      "metadata": {
        "id": "Gf9LGCWp4mQF"
      },
      "source": [
        "# Reshaping Values"
      ]
    },
    {
      "cell_type": "code",
      "metadata": {
        "id": "UU6x0QD7egvp"
      },
      "source": [
        "X = x.reshape(len(x),1,-1)\n",
        "Y = y.reshape(len(y),1)"
      ],
      "execution_count": null,
      "outputs": []
    },
    {
      "cell_type": "markdown",
      "metadata": {
        "id": "UCnL-iP14u3U"
      },
      "source": [
        "# Splitting Data (70% Data for Training and 30% Data for Testing)"
      ]
    },
    {
      "cell_type": "code",
      "metadata": {
        "id": "Y_eI0UbGe5PH"
      },
      "source": [
        "xTrain,xTest,yTrain,yTest=train_test_split(X,Y,test_size=0.30)"
      ],
      "execution_count": null,
      "outputs": []
    },
    {
      "cell_type": "markdown",
      "metadata": {
        "id": "NzhhQQ-t4zDl"
      },
      "source": [
        "# Reshaping Training Data"
      ]
    },
    {
      "cell_type": "code",
      "metadata": {
        "id": "dumwoyE4fL54"
      },
      "source": [
        "nsamples, nx, ny = xTrain.shape\n",
        "xTrain = xTrain.reshape((nsamples,nx*ny))\n",
        "\n",
        "nsamples2, nx2, ny2 = xTest.shape\n",
        "xTest = xTest.reshape((nsamples2,nx2*ny2))"
      ],
      "execution_count": null,
      "outputs": []
    },
    {
      "cell_type": "markdown",
      "metadata": {
        "id": "HLJ9nJDKJhrw"
      },
      "source": [
        "# Data Scaling"
      ]
    },
    {
      "cell_type": "code",
      "metadata": {
        "colab": {
          "base_uri": "https://localhost:8080/",
          "height": 35
        },
        "id": "Z-3aboElJgiF",
        "outputId": "8da6fc20-4ef3-47ef-aea2-2d4d49dd5904"
      },
      "source": [
        "'''# Feature Scaling\n",
        "from sklearn.preprocessing import StandardScaler\n",
        "\n",
        "sc = StandardScaler()\n",
        "xTrain = sc.fit_transform(xTrain)\n",
        "xTest = sc.transform(xTest)'''"
      ],
      "execution_count": null,
      "outputs": [
        {
          "output_type": "execute_result",
          "data": {
            "application/vnd.google.colaboratory.intrinsic+json": {
              "type": "string"
            },
            "text/plain": [
              "'# Feature Scaling\\nfrom sklearn.preprocessing import StandardScaler\\n\\nsc = StandardScaler()\\nxTrain = sc.fit_transform(xTrain)\\nxTest = sc.transform(xTest)'"
            ]
          },
          "metadata": {},
          "execution_count": 9
        }
      ]
    },
    {
      "cell_type": "markdown",
      "metadata": {
        "id": "6ABknimw47Wz"
      },
      "source": [
        "# Training Data (Linear Regression)"
      ]
    },
    {
      "cell_type": "code",
      "metadata": {
        "colab": {
          "base_uri": "https://localhost:8080/"
        },
        "id": "7xz9o1dXe6g5",
        "outputId": "928164a6-a7bf-40ef-ffc5-c0e7ed2a072c"
      },
      "source": [
        "# Creating a Linear Regression object and fitting it on our training set\n",
        "linearRegressor=LinearRegression()\n",
        "linearRegressor.fit(xTrain,yTrain)"
      ],
      "execution_count": null,
      "outputs": [
        {
          "output_type": "execute_result",
          "data": {
            "text/plain": [
              "LinearRegression(copy_X=True, fit_intercept=True, n_jobs=None, normalize=False)"
            ]
          },
          "metadata": {},
          "execution_count": 10
        }
      ]
    },
    {
      "cell_type": "code",
      "metadata": {
        "id": "EQNAKYoYfd6k"
      },
      "source": [
        "# Predicting the test set results\n",
        "yPrediction=linearRegressor.predict(xTest)"
      ],
      "execution_count": null,
      "outputs": []
    },
    {
      "cell_type": "code",
      "metadata": {
        "colab": {
          "base_uri": "https://localhost:8080/"
        },
        "id": "J7-oev35f9Qp",
        "outputId": "ebae754c-1f6d-45e6-ef46-1f5902df933c"
      },
      "source": [
        "# Visualization\n",
        "df=pandas.DataFrame({'Actual':yTest.flatten(),'Predicted':yPrediction.flatten()})\n",
        "print(df)"
      ],
      "execution_count": null,
      "outputs": [
        {
          "output_type": "stream",
          "name": "stdout",
          "text": [
            "     Actual  Predicted\n",
            "0      0.65   0.634391\n",
            "1      0.79   0.826458\n",
            "2      0.63   0.683107\n",
            "3      0.54   0.638351\n",
            "4      0.96   0.989944\n",
            "..      ...        ...\n",
            "145    0.38   0.560942\n",
            "146    0.42   0.510231\n",
            "147    0.76   0.791650\n",
            "148    0.52   0.521829\n",
            "149    0.95   0.964274\n",
            "\n",
            "[150 rows x 2 columns]\n"
          ]
        }
      ]
    },
    {
      "cell_type": "code",
      "metadata": {
        "colab": {
          "base_uri": "https://localhost:8080/",
          "height": 274
        },
        "id": "2u7o3N-JgF0t",
        "outputId": "5d0a5fc4-7d83-4a97-9157-3376fc3f6163"
      },
      "source": [
        "df.plot(kind='bar')\n",
        "plot.show()"
      ],
      "execution_count": null,
      "outputs": [
        {
          "output_type": "display_data",
          "data": {
            "image/png": "[encoded data removed]",
            "text/plain": [
              "<Figure size 432x288 with 1 Axes>"
            ]
          },
          "metadata": {
            "needs_background": "light"
          }
        }
      ]
    },
    {
      "cell_type": "markdown",
      "metadata": {
        "id": "4moz3WSa5Eml"
      },
      "source": [
        "# Performance Metrics in Linear Regression"
      ]
    },
    {
      "cell_type": "code",
      "metadata": {
        "colab": {
          "base_uri": "https://localhost:8080/"
        },
        "id": "vWIGCwgrgfYi",
        "outputId": "a6a7eb19-4b22-4bef-c855-433f54f6be93"
      },
      "source": [
        "mae,mse,rmse,r2s  = [],[],[],[]\n",
        "# Displaying errors\n",
        "print('Mean Absolute Error:',metrics.mean_absolute_error(yTest,yPrediction))\n",
        "print('Mean Squared Error:',metrics.mean_squared_error(yTest,yPrediction))\n",
        "print('Root Mean Squared Error:', numpy.sqrt(metrics.mean_squared_error(yTest,yPrediction)))\n",
        "print('R2 Score',metrics.r2_score(yTest,yPrediction))\n",
        "mae = metrics.mean_absolute_error(yTest,yPrediction)\n",
        "mse = metrics.mean_squared_error(yTest,yPrediction)\n",
        "rmse = numpy.sqrt(metrics.mean_squared_error(yTest,yPrediction))\n",
        "r2s = metrics.r2_score(yTest,yPrediction)"
      ],
      "execution_count": null,
      "outputs": [
        {
          "output_type": "stream",
          "name": "stdout",
          "text": [
            "Mean Absolute Error: 0.044412739043273995\n",
            "Mean Squared Error: 0.004241453980574171\n",
            "Root Mean Squared Error: 0.06512644609199991\n",
            "R2 Score 0.768998582846935\n"
          ]
        }
      ]
    },
    {
      "cell_type": "markdown",
      "metadata": {
        "id": "sqLi1BXO5Zq0"
      },
      "source": [
        "# User Input Prediction (Linear Regression)"
      ]
    },
    {
      "cell_type": "code",
      "metadata": {
        "colab": {
          "base_uri": "https://localhost:8080/"
        },
        "id": "xDhM_JG_4YuT",
        "outputId": "0100e7df-dbd7-4562-f333-2d291fa43284"
      },
      "source": [
        "print(linearRegressor.predict([[337,118,4,4.5,4.5,3.86,1]]))"
      ],
      "execution_count": null,
      "outputs": [
        {
          "output_type": "stream",
          "name": "stdout",
          "text": [
            "[[0.9511295]]\n"
          ]
        }
      ]
    },
    {
      "cell_type": "markdown",
      "metadata": {
        "id": "6I0FbiTS_vWD"
      },
      "source": [
        "# Training Data (Decision Tree Regression)"
      ]
    },
    {
      "cell_type": "code",
      "metadata": {
        "colab": {
          "base_uri": "https://localhost:8080/"
        },
        "id": "s22PqTdaAJge",
        "outputId": "aec27c41-272c-47b2-feb1-9d692a456be9"
      },
      "source": [
        "# Creating a Decision Tree Regressor\n",
        "regressor=DecisionTreeRegressor()\n",
        "regressor.fit(xTrain,yTrain)"
      ],
      "execution_count": null,
      "outputs": [
        {
          "output_type": "execute_result",
          "data": {
            "text/plain": [
              "DecisionTreeRegressor(ccp_alpha=0.0, criterion='mse', max_depth=None,\n",
              "                      max_features=None, max_leaf_nodes=None,\n",
              "                      min_impurity_decrease=0.0, min_impurity_split=None,\n",
              "                      min_samples_leaf=1, min_samples_split=2,\n",
              "                      min_weight_fraction_leaf=0.0, presort='deprecated',\n",
              "                      random_state=None, splitter='best')"
            ]
          },
          "metadata": {},
          "execution_count": 16
        }
      ]
    },
    {
      "cell_type": "code",
      "metadata": {
        "id": "FLJKjU2rAfuH"
      },
      "source": [
        "# Predicting the test set results\n",
        "yPrediction=regressor.predict(xTest)"
      ],
      "execution_count": null,
      "outputs": []
    },
    {
      "cell_type": "markdown",
      "metadata": {
        "id": "6fGCWUxkA9Y6"
      },
      "source": [
        "# Performance Metrics in Decision Tree Regression"
      ]
    },
    {
      "cell_type": "code",
      "metadata": {
        "colab": {
          "base_uri": "https://localhost:8080/"
        },
        "id": "hVsWM8PKAwop",
        "outputId": "d75e914d-07ab-46b8-fcc3-e5151b50a7c0"
      },
      "source": [
        "# Displaing errors\n",
        "print('Mean Absolute Error:',metrics.mean_absolute_error(yTest,yPrediction))\n",
        "print('Mean Squared Error:',metrics.mean_squared_error(yTest,yPrediction))\n",
        "print('Root Mean Squared Error:', numpy.sqrt(metrics.mean_squared_error(yTest,yPrediction)))\n",
        "print('R2 Score',metrics.r2_score(yTest,yPrediction))\n",
        "mae = numpy.append(mae, metrics.mean_absolute_error(yTest,yPrediction))\n",
        "mse = numpy.append(mse,metrics.mean_squared_error(yTest,yPrediction))\n",
        "rmse = numpy.append(rmse,numpy.sqrt(metrics.mean_squared_error(yTest,yPrediction)))\n",
        "r2s = numpy.append(r2s,metrics.r2_score(yTest,yPrediction))\n",
        "print(mae)\n",
        "print(mse)\n",
        "print(rmse)\n",
        "print(r2s)"
      ],
      "execution_count": null,
      "outputs": [
        {
          "output_type": "stream",
          "name": "stdout",
          "text": [
            "Mean Absolute Error: 0.06613333333333332\n",
            "Mean Squared Error: 0.008425333333333332\n",
            "Root Mean Squared Error: 0.0917896145178382\n",
            "R2 Score 0.5411328405540101\n",
            "[0.04441274 0.06613333]\n",
            "[0.00424145 0.00842533]\n",
            "[0.06512645 0.09178961]\n",
            "[0.76899858 0.54113284]\n"
          ]
        }
      ]
    },
    {
      "cell_type": "markdown",
      "metadata": {
        "id": "5HA6OiI_BEoL"
      },
      "source": [
        "# User Input Prediction (Decision Tree Regression)"
      ]
    },
    {
      "cell_type": "code",
      "metadata": {
        "colab": {
          "base_uri": "https://localhost:8080/"
        },
        "id": "yJH24cuFAzZn",
        "outputId": "3d424d24-1912-41de-a8ae-c703ab21d27c"
      },
      "source": [
        "print(regressor.predict([[337,118,4,4.5,4.5,3.86,1]]))"
      ],
      "execution_count": null,
      "outputs": [
        {
          "output_type": "stream",
          "name": "stdout",
          "text": [
            "[0.92]\n"
          ]
        }
      ]
    },
    {
      "cell_type": "markdown",
      "metadata": {
        "id": "28DfTqdAB-57"
      },
      "source": [
        "# Training Data (K Neighbors Regression)"
      ]
    },
    {
      "cell_type": "code",
      "metadata": {
        "id": "X1uNZ5U0B-59"
      },
      "source": [
        "# Training a KNN classifier\n",
        "knn=KNeighborsRegressor(n_neighbors=7).fit(xTrain,yTrain)"
      ],
      "execution_count": null,
      "outputs": []
    },
    {
      "cell_type": "code",
      "metadata": {
        "id": "asg2msPKB-59"
      },
      "source": [
        "# Displaying Predictions\n",
        "yPrediction=knn.predict(xTest)"
      ],
      "execution_count": null,
      "outputs": []
    },
    {
      "cell_type": "markdown",
      "metadata": {
        "id": "e1OaAK-xB-5-"
      },
      "source": [
        "# Performance Metrics in K Neighbors Regression"
      ]
    },
    {
      "cell_type": "code",
      "metadata": {
        "colab": {
          "base_uri": "https://localhost:8080/"
        },
        "id": "jS6ryiRvB-5-",
        "outputId": "b51842d2-3bf9-4e08-de7b-1debce363731"
      },
      "source": [
        "# Displaing errors\n",
        "print('Mean Absolute Error:',metrics.mean_absolute_error(yTest,yPrediction))\n",
        "print('Mean Squared Error:',metrics.mean_squared_error(yTest,yPrediction))\n",
        "print('Root Mean Squared Error:', numpy.sqrt(metrics.mean_squared_error(yTest,yPrediction)))\n",
        "print('R2 Score',metrics.r2_score(yTest,yPrediction))\n",
        "mae = numpy.append(mae, metrics.mean_absolute_error(yTest,yPrediction))\n",
        "mse = numpy.append(mse,metrics.mean_squared_error(yTest,yPrediction))\n",
        "rmse = numpy.append(rmse,numpy.sqrt(metrics.mean_squared_error(yTest,yPrediction)))\n",
        "r2s = numpy.append(r2s,metrics.r2_score(yTest,yPrediction))\n",
        "print(mae)\n",
        "print(mse)\n",
        "print(rmse)\n",
        "print(r2s)"
      ],
      "execution_count": null,
      "outputs": [
        {
          "output_type": "stream",
          "name": "stdout",
          "text": [
            "Mean Absolute Error: 0.061409523809523824\n",
            "Mean Squared Error: 0.006579782312925172\n",
            "Root Mean Squared Error: 0.08111585734568286\n",
            "R2 Score 0.64164669808851\n",
            "[0.04441274 0.06613333 0.06140952]\n",
            "[0.00424145 0.00842533 0.00657978]\n",
            "[0.06512645 0.09178961 0.08111586]\n",
            "[0.76899858 0.54113284 0.6416467 ]\n"
          ]
        }
      ]
    },
    {
      "cell_type": "markdown",
      "metadata": {
        "id": "T91FhUNjB-5-"
      },
      "source": [
        "# User Input Prediction (K Neighbors Regression)"
      ]
    },
    {
      "cell_type": "code",
      "metadata": {
        "colab": {
          "base_uri": "https://localhost:8080/"
        },
        "id": "vPNxmjudB-5_",
        "outputId": "38c1d0d7-4044-4687-83c8-0a25e59f0ad6"
      },
      "source": [
        "print(knn.predict([[337,118,4,4.5,4.5,3.86,1]]))"
      ],
      "execution_count": null,
      "outputs": [
        {
          "output_type": "stream",
          "name": "stdout",
          "text": [
            "[[0.93571429]]\n"
          ]
        }
      ]
    },
    {
      "cell_type": "markdown",
      "metadata": {
        "id": "WGRTr_HwHkz4"
      },
      "source": [
        "# Training Data (Support Vector Regression)"
      ]
    },
    {
      "cell_type": "code",
      "metadata": {
        "colab": {
          "base_uri": "https://localhost:8080/"
        },
        "id": "9eogfurPHkz5",
        "outputId": "ca95389a-01a1-46b3-9027-d6c6dc9e7f91"
      },
      "source": [
        "# Creating a Decision Tree Regressor\n",
        "regressor=SVR(kernel = 'rbf')\n",
        "regressor.fit(xTrain,yTrain)"
      ],
      "execution_count": null,
      "outputs": [
        {
          "output_type": "execute_result",
          "data": {
            "text/plain": [
              "SVR(C=1.0, cache_size=200, coef0=0.0, degree=3, epsilon=0.1, gamma='scale',\n",
              "    kernel='rbf', max_iter=-1, shrinking=True, tol=0.001, verbose=False)"
            ]
          },
          "metadata": {},
          "execution_count": 24
        }
      ]
    },
    {
      "cell_type": "code",
      "metadata": {
        "id": "A5ulMt0yHkz6"
      },
      "source": [
        "# Predicting the test set results\n",
        "yPrediction=regressor.predict(xTest)"
      ],
      "execution_count": null,
      "outputs": []
    },
    {
      "cell_type": "markdown",
      "metadata": {
        "id": "S77Ne1t8Hkz6"
      },
      "source": [
        "# Performance Metrics in Support Vector Regression"
      ]
    },
    {
      "cell_type": "code",
      "metadata": {
        "colab": {
          "base_uri": "https://localhost:8080/"
        },
        "id": "8L72sqJkHkz6",
        "outputId": "71e564e5-6998-48cd-99ff-f073bdd2c655"
      },
      "source": [
        "# Displaing errors\n",
        "print('Mean Absolute Error:',metrics.mean_absolute_error(yTest,yPrediction))\n",
        "print('Mean Squared Error:',metrics.mean_squared_error(yTest,yPrediction))\n",
        "print('Root Mean Squared Error:', numpy.sqrt(metrics.mean_squared_error(yTest,yPrediction)))\n",
        "print('R2 Score',metrics.r2_score(yTest,yPrediction))\n",
        "mae = numpy.append(mae, metrics.mean_absolute_error(yTest,yPrediction))\n",
        "mse = numpy.append(mse,metrics.mean_squared_error(yTest,yPrediction))\n",
        "rmse = numpy.append(rmse,numpy.sqrt(metrics.mean_squared_error(yTest,yPrediction)))\n",
        "r2s = numpy.append(r2s,metrics.r2_score(yTest,yPrediction))\n",
        "print(mae)\n",
        "print(mse)\n",
        "print(rmse)\n",
        "print(r2s)"
      ],
      "execution_count": null,
      "outputs": [
        {
          "output_type": "stream",
          "name": "stdout",
          "text": [
            "Mean Absolute Error: 0.06423611837799506\n",
            "Mean Squared Error: 0.006853881693178442\n",
            "Root Mean Squared Error: 0.08278817363113189\n",
            "R2 Score 0.6267184811211033\n",
            "[0.04441274 0.06613333 0.06140952 0.06423612]\n",
            "[0.00424145 0.00842533 0.00657978 0.00685388]\n",
            "[0.06512645 0.09178961 0.08111586 0.08278817]\n",
            "[0.76899858 0.54113284 0.6416467  0.62671848]\n"
          ]
        }
      ]
    },
    {
      "cell_type": "markdown",
      "metadata": {
        "id": "t0-t0CRRHkz7"
      },
      "source": [
        "# User Input Prediction (Support Vector Regression)"
      ]
    },
    {
      "cell_type": "code",
      "metadata": {
        "colab": {
          "base_uri": "https://localhost:8080/"
        },
        "id": "Zj3dJ829Hkz7",
        "outputId": "cdd19ab8-83af-48ac-861f-16eb6933c91e"
      },
      "source": [
        "print(regressor.predict([[337,118,4,4.5,4.5,3.86,1]]))"
      ],
      "execution_count": null,
      "outputs": [
        {
          "output_type": "stream",
          "name": "stdout",
          "text": [
            "[0.89061472]\n"
          ]
        }
      ]
    },
    {
      "cell_type": "markdown",
      "metadata": {
        "id": "_Papf0NIN9ML"
      },
      "source": [
        "# Training Data (Random Forrest Regression)"
      ]
    },
    {
      "cell_type": "code",
      "metadata": {
        "colab": {
          "base_uri": "https://localhost:8080/"
        },
        "id": "_bU_Zqa_N9MM",
        "outputId": "731f209b-9bcd-41e7-d347-3e3c124be213"
      },
      "source": [
        "# Creating a Decision Tree Regressor\n",
        "regressor=RandomForestRegressor(n_estimators=20, random_state=0)\n",
        "regressor.fit(xTrain,yTrain)"
      ],
      "execution_count": null,
      "outputs": [
        {
          "output_type": "execute_result",
          "data": {
            "text/plain": [
              "RandomForestRegressor(bootstrap=True, ccp_alpha=0.0, criterion='mse',\n",
              "                      max_depth=None, max_features='auto', max_leaf_nodes=None,\n",
              "                      max_samples=None, min_impurity_decrease=0.0,\n",
              "                      min_impurity_split=None, min_samples_leaf=1,\n",
              "                      min_samples_split=2, min_weight_fraction_leaf=0.0,\n",
              "                      n_estimators=20, n_jobs=None, oob_score=False,\n",
              "                      random_state=0, verbose=0, warm_start=False)"
            ]
          },
          "metadata": {},
          "execution_count": 28
        }
      ]
    },
    {
      "cell_type": "code",
      "metadata": {
        "id": "QBLqvBj4N9MN"
      },
      "source": [
        "# Predicting the test set results\n",
        "yPrediction=regressor.predict(xTest)"
      ],
      "execution_count": null,
      "outputs": []
    },
    {
      "cell_type": "markdown",
      "metadata": {
        "id": "B9V3EEEgN9MO"
      },
      "source": [
        "# Performance Metrics in Random Forrest Regression"
      ]
    },
    {
      "cell_type": "code",
      "metadata": {
        "colab": {
          "base_uri": "https://localhost:8080/"
        },
        "id": "H1EJzvd_N9MP",
        "outputId": "b623d3d0-0bbc-4123-9d16-57782a8573a6"
      },
      "source": [
        "# Displaing errors\n",
        "print('Mean Absolute Error:',metrics.mean_absolute_error(yTest,yPrediction))\n",
        "print('Mean Squared Error:',metrics.mean_squared_error(yTest,yPrediction))\n",
        "print('Root Mean Squared Error:', numpy.sqrt(metrics.mean_squared_error(yTest,yPrediction)))\n",
        "print('R2 Score',metrics.r2_score(yTest,yPrediction))\n",
        "mae = numpy.append(mae, metrics.mean_absolute_error(yTest,yPrediction))\n",
        "mse = numpy.append(mse,metrics.mean_squared_error(yTest,yPrediction))\n",
        "rmse = numpy.append(rmse,numpy.sqrt(metrics.mean_squared_error(yTest,yPrediction)))\n",
        "r2s = numpy.append(r2s,metrics.r2_score(yTest,yPrediction))\n",
        "print(mae)\n",
        "print(mse)\n",
        "print(rmse)\n",
        "print(r2s)"
      ],
      "execution_count": null,
      "outputs": [
        {
          "output_type": "stream",
          "name": "stdout",
          "text": [
            "Mean Absolute Error: 0.04628999999999999\n",
            "Mean Squared Error: 0.004592214999999999\n",
            "Root Mean Squared Error: 0.06776588374691206\n",
            "R2 Score 0.7498951591293797\n",
            "[0.04441274 0.06613333 0.06140952 0.06423612 0.04629   ]\n",
            "[0.00424145 0.00842533 0.00657978 0.00685388 0.00459221]\n",
            "[0.06512645 0.09178961 0.08111586 0.08278817 0.06776588]\n",
            "[0.76899858 0.54113284 0.6416467  0.62671848 0.74989516]\n"
          ]
        }
      ]
    },
    {
      "cell_type": "markdown",
      "metadata": {
        "id": "nM5s-koGN9MP"
      },
      "source": [
        "# User Input Prediction (Random Forrest Regression)"
      ]
    },
    {
      "cell_type": "code",
      "metadata": {
        "colab": {
          "base_uri": "https://localhost:8080/"
        },
        "id": "bz9WDTCDN9MQ",
        "outputId": "4a221a11-2165-4238-8789-39b9ae0b0c0d"
      },
      "source": [
        "print(regressor.predict([[337,118,4,4.5,4.5,3.86,1]]))"
      ],
      "execution_count": null,
      "outputs": [
        {
          "output_type": "stream",
          "name": "stdout",
          "text": [
            "[0.9285]\n"
          ]
        }
      ]
    },
    {
      "cell_type": "markdown",
      "metadata": {
        "id": "140vICR6QOBG"
      },
      "source": [
        "# Training Data (Ridge Regression)"
      ]
    },
    {
      "cell_type": "code",
      "metadata": {
        "colab": {
          "base_uri": "https://localhost:8080/"
        },
        "id": "4dNGHeGhQOBI",
        "outputId": "0e228266-e344-4f1d-f4e9-e15801a9ae0f"
      },
      "source": [
        "# Creating a Decision Tree Regressor\n",
        "regressor=Ridge(alpha=0.01)\n",
        "regressor.fit(xTrain,yTrain)"
      ],
      "execution_count": null,
      "outputs": [
        {
          "output_type": "execute_result",
          "data": {
            "text/plain": [
              "Ridge(alpha=0.01, copy_X=True, fit_intercept=True, max_iter=None,\n",
              "      normalize=False, random_state=None, solver='auto', tol=0.001)"
            ]
          },
          "metadata": {},
          "execution_count": 32
        }
      ]
    },
    {
      "cell_type": "code",
      "metadata": {
        "id": "r7W4i6HXQOBL"
      },
      "source": [
        "# Predicting the test set results\n",
        "yPrediction=regressor.predict(xTest)"
      ],
      "execution_count": null,
      "outputs": []
    },
    {
      "cell_type": "markdown",
      "metadata": {
        "id": "rvbosEPiQOBN"
      },
      "source": [
        "# Performance Metrics in Ridge Regression"
      ]
    },
    {
      "cell_type": "code",
      "metadata": {
        "colab": {
          "base_uri": "https://localhost:8080/"
        },
        "id": "xR5g3ZQCQOBT",
        "outputId": "b898c2f0-69e5-44e6-b6b7-19bdf9db9eb9"
      },
      "source": [
        "# Displaing errors\n",
        "print('Mean Absolute Error:',metrics.mean_absolute_error(yTest,yPrediction))\n",
        "print('Mean Squared Error:',metrics.mean_squared_error(yTest,yPrediction))\n",
        "print('Root Mean Squared Error:', numpy.sqrt(metrics.mean_squared_error(yTest,yPrediction)))\n",
        "print('R2 Score',metrics.r2_score(yTest,yPrediction))\n",
        "mae = numpy.append(mae, metrics.mean_absolute_error(yTest,yPrediction))\n",
        "mse = numpy.append(mse,metrics.mean_squared_error(yTest,yPrediction))\n",
        "rmse = numpy.append(rmse,numpy.sqrt(metrics.mean_squared_error(yTest,yPrediction)))\n",
        "r2s = numpy.append(r2s,metrics.r2_score(yTest,yPrediction))\n",
        "print(mae)\n",
        "print(mse)\n",
        "print(rmse)\n",
        "print(r2s)"
      ],
      "execution_count": null,
      "outputs": [
        {
          "output_type": "stream",
          "name": "stdout",
          "text": [
            "Mean Absolute Error: 0.044421124650565476\n",
            "Mean Squared Error: 0.004243155185019546\n",
            "Root Mean Squared Error: 0.0651395055632106\n",
            "R2 Score 0.7689059305065941\n",
            "[0.04441274 0.06613333 0.06140952 0.06423612 0.04629    0.04442112]\n",
            "[0.00424145 0.00842533 0.00657978 0.00685388 0.00459221 0.00424316]\n",
            "[0.06512645 0.09178961 0.08111586 0.08278817 0.06776588 0.06513951]\n",
            "[0.76899858 0.54113284 0.6416467  0.62671848 0.74989516 0.76890593]\n"
          ]
        }
      ]
    },
    {
      "cell_type": "markdown",
      "metadata": {
        "id": "juvkk2F2QOBU"
      },
      "source": [
        "# User Input Prediction (Ridge Regression)"
      ]
    },
    {
      "cell_type": "code",
      "metadata": {
        "colab": {
          "base_uri": "https://localhost:8080/"
        },
        "id": "fva_rDl2QOBU",
        "outputId": "0594f3d3-2aa2-422e-c869-c29137ea736d"
      },
      "source": [
        "print(regressor.predict([[337,118,4,4.5,4.5,3.86,1]]))"
      ],
      "execution_count": null,
      "outputs": [
        {
          "output_type": "stream",
          "name": "stdout",
          "text": [
            "[[0.951105]]\n"
          ]
        }
      ]
    },
    {
      "cell_type": "markdown",
      "metadata": {
        "id": "znLpbrrHWrk-"
      },
      "source": [
        "# Plotting Graph to Compare Performaces of Each Model Visually"
      ]
    },
    {
      "cell_type": "code",
      "metadata": {
        "colab": {
          "base_uri": "https://localhost:8080/",
          "height": 934
        },
        "id": "WwZEUXv9Wqv6",
        "outputId": "ad9cdbd7-4bba-4d6f-afe3-08133898eb2a"
      },
      "source": [
        "# create data\n",
        "df = pandas.DataFrame([['Linear Regression', mae[0], mse[0], rmse[0], r2s[0]], ['Decision Tree Regression', mae[1], mse[1], rmse[1], r2s[1]], ['K-Nearest Neighbor Regression', mae[2], mse[2], rmse[2], r2s[2]],\n",
        "                   ['Support Vector Regression', mae[3], mse[3], rmse[3], r2s[3]], ['Random Forest Regression', mae[4], mse[4], rmse[4], r2s[4]], ['Ridge Regression', mae[5], mse[5], rmse[5], r2s[5]]],\n",
        "                  columns=['Regression Models', 'Mean Absolute Error', 'Mean Squared Error', 'Root Mean Squared Error', 'R2 Score'])\n",
        "# view data\n",
        "print(df)\n",
        "  \n",
        "# plot grouped bar chart\n",
        "df.plot(x='Regression Models',\n",
        "        kind='bar',\n",
        "        stacked=False, figsize = (10,10),\n",
        "        title='Visual Comparison of Every Model Performance')"
      ],
      "execution_count": null,
      "outputs": [
        {
          "output_type": "stream",
          "name": "stdout",
          "text": [
            "               Regression Models  ...  R2 Score\n",
            "0              Linear Regression  ...  0.768999\n",
            "1       Decision Tree Regression  ...  0.541133\n",
            "2  K-Nearest Neighbor Regression  ...  0.641647\n",
            "3      Support Vector Regression  ...  0.626718\n",
            "4       Random Forest Regression  ...  0.749895\n",
            "5               Ridge Regression  ...  0.768906\n",
            "\n",
            "[6 rows x 5 columns]\n"
          ]
        },
        {
          "output_type": "execute_result",
          "data": {
            "text/plain": [
              "<matplotlib.axes._subplots.AxesSubplot at 0x7fddb5f82190>"
            ]
          },
          "metadata": {},
          "execution_count": 36
        },
        {
          "output_type": "display_data",
          "data": {
            "image/png": "[encoded data removed]",
            "text/plain": [
              "<Figure size 720x720 with 1 Axes>"
            ]
          },
          "metadata": {
            "needs_background": "light"
          }
        }
      ]
    }
  ]
}